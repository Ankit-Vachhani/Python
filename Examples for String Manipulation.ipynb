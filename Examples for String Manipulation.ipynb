{
 "cells": [
  {
   "cell_type": "code",
   "execution_count": 1,
   "metadata": {
    "collapsed": false
   },
   "outputs": [
    {
     "name": "stdout",
     "output_type": "stream",
     "text": [
      "start \testing vs end \\testing\n"
     ]
    }
   ],
   "source": [
    "# putting an r in front of a string makes the string a \"byte string\" (in Python 2.*)\n",
    "print(\"start \\testing vs \"+r\"end \\testing\")\n",
    "#notice that \\t turns into a tab in the first string\n",
    "\n",
    "# putting an ur in front of a string makes the string a \"Unicode string\" (in Python 2.*)\n",
    "# ur is not valid in Python 3.* because support was restored for explicit Unicode literals (see PEP 414)"
   ]
  },
  {
   "cell_type": "code",
   "execution_count": 2,
   "metadata": {
    "collapsed": false
   },
   "outputs": [
    {
     "name": "stdout",
     "output_type": "stream",
     "text": [
      "pub\n",
      "pub\n",
      "p.u.b\n",
      "['pub']\n",
      "['p', 'u', 'b']\n"
     ]
    }
   ],
   "source": [
    "g = 'pub'\n",
    "h = ''.join(['p', 'u', 'b'])\n",
    "i = '.'.join(['p', 'u', 'b'])\n",
    "print(g)\n",
    "print(h)\n",
    "print(i)\n",
    "\n",
    "#there is no '.' in 'h' so you get an array with one element\n",
    "j = h.split('.')\n",
    "print(j)\n",
    "\n",
    "k = i.split('.')\n",
    "print(k)"
   ]
  },
  {
   "cell_type": "code",
   "execution_count": 3,
   "metadata": {
    "collapsed": false
   },
   "outputs": [
    {
     "name": "stdout",
     "output_type": "stream",
     "text": [
      "\"is\" test False\n",
      "\"==\" test True\n",
      "\n",
      "id of g: 62281632\n",
      "id of h: 63105856\n",
      "\n",
      "id of g:     62281632\n",
      "id of \"pub\": 62281632\n"
     ]
    }
   ],
   "source": [
    "# 'is' is identity testing, '==' is equality testing\n",
    "print('\\\"is\\\" test '+str(g is h))\n",
    "print('\\\"==\\\" test '+str(g == h)+\"\\n\")\n",
    "\n",
    "#because 'is' is testing id(g) == id(h)\n",
    "print('id of g: '+str(id(g)))\n",
    "print('id of h: '+str(id(h))+\"\\n\")\n",
    "\n",
    "#note that id(g) == id('pub') here but it doesn't have to...\n",
    "print('id of g:     '+str(id(g)))\n",
    "print('id of \\\"pub\\\": ' +str(id('pub')))\n"
   ]
  },
  {
   "cell_type": "code",
   "execution_count": 4,
   "metadata": {
    "collapsed": false
   },
   "outputs": [
    {
     "name": "stdout",
     "output_type": "stream",
     "text": [
      "['The ', ' brown fox jumps over the lazy dog.']\n"
     ]
    }
   ],
   "source": [
    "j = 'The quick brown fox jumps over the lazy dog.'\n",
    "k = j.split('quick')\n",
    "print(k)"
   ]
  },
  {
   "cell_type": "code",
   "execution_count": 5,
   "metadata": {
    "collapsed": false
   },
   "outputs": [
    {
     "name": "stdout",
     "output_type": "stream",
     "text": [
      "The quick brown fox j\n"
     ]
    }
   ],
   "source": [
    "l = j[0:21]\n",
    "print(l)"
   ]
  },
  {
   "cell_type": "code",
   "execution_count": 6,
   "metadata": {
    "collapsed": false
   },
   "outputs": [
    {
     "data": {
      "text/plain": [
       "31"
      ]
     },
     "execution_count": 6,
     "metadata": {},
     "output_type": "execute_result"
    }
   ],
   "source": [
    "j.index(\"the\")"
   ]
  },
  {
   "cell_type": "code",
   "execution_count": 7,
   "metadata": {
    "collapsed": false
   },
   "outputs": [
    {
     "data": {
      "text/plain": [
       "False"
      ]
     },
     "execution_count": 7,
     "metadata": {},
     "output_type": "execute_result"
    }
   ],
   "source": [
    "'Alice' in j"
   ]
  },
  {
   "cell_type": "code",
   "execution_count": 8,
   "metadata": {
    "collapsed": false
   },
   "outputs": [
    {
     "data": {
      "text/plain": [
       "True"
      ]
     },
     "execution_count": 8,
     "metadata": {},
     "output_type": "execute_result"
    }
   ],
   "source": [
    "'dog' in j"
   ]
  },
  {
   "cell_type": "code",
   "execution_count": 9,
   "metadata": {
    "collapsed": false
   },
   "outputs": [
    {
     "name": "stdout",
     "output_type": "stream",
     "text": [
      "[10, 11, 12, 13, 14, 15, 16, 17, 18, 19]\n"
     ]
    }
   ],
   "source": [
    "y=[]\n",
    "for x in range(10,20):\n",
    "    y = y + [x]\n",
    "print(y)"
   ]
  }
 ],
 "metadata": {
  "anaconda-cloud": {},
  "kernelspec": {
   "display_name": "Python [conda root]",
   "language": "python",
   "name": "conda-root-py"
  },
  "language_info": {
   "codemirror_mode": {
    "name": "ipython",
    "version": 3
   },
   "file_extension": ".py",
   "mimetype": "text/x-python",
   "name": "python",
   "nbconvert_exporter": "python",
   "pygments_lexer": "ipython3",
   "version": "3.5.2"
  }
 },
 "nbformat": 4,
 "nbformat_minor": 1
}
