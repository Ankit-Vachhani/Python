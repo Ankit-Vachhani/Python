{
 "cells": [
  {
   "cell_type": "code",
   "execution_count": null,
   "metadata": {
    "collapsed": false
   },
   "outputs": [],
   "source": [
    "#This is how you import libraries\n",
    "import os\n",
    "import csv\n",
    "import sys"
   ]
  },
  {
   "cell_type": "code",
   "execution_count": null,
   "metadata": {
    "collapsed": false
   },
   "outputs": [],
   "source": [
    "#This is how you check your version of Python\n",
    "sys.version"
   ]
  },
  {
   "cell_type": "code",
   "execution_count": null,
   "metadata": {
    "collapsed": false
   },
   "outputs": [],
   "source": [
    "#This command shows the current working directory (what open uses for for relative paths).\n",
    "os.getcwd()"
   ]
  },
  {
   "cell_type": "code",
   "execution_count": null,
   "metadata": {
    "collapsed": false
   },
   "outputs": [],
   "source": [
    "#This is how you change the current working directory (what open uses for for relative paths).\n",
    "os.chdir('C:\\\\')\n",
    "os.getcwd()"
   ]
  },
  {
   "cell_type": "code",
   "execution_count": null,
   "metadata": {
    "collapsed": false
   },
   "outputs": [],
   "source": [
    "import os\n",
    "\n",
    "#This is how you revert the current working directory (what open uses for for relative paths).\n",
    "os.chdir(os.path.expanduser('~'))\n",
    "os.getcwd()"
   ]
  },
  {
   "cell_type": "code",
   "execution_count": null,
   "metadata": {
    "collapsed": false
   },
   "outputs": [],
   "source": [
    "# putting an r in front of a string makes the string a \"byte string\" (in Python 2.*)\n",
    "print(\"start \\testing vs \"+r\"end \\testing\")\n",
    "#notice that \\t turns into a tab in the first string\n",
    "\n",
    "# putting an ur in front of a string makes the string a \"Unicode string\" (in Python 2.*)\n",
    "# ur is not valid in Python 3.* because support was restored for explicit Unicode literals (see PEP 414)"
   ]
  },
  {
   "cell_type": "code",
   "execution_count": null,
   "metadata": {
    "collapsed": false
   },
   "outputs": [],
   "source": [
    "#this is how to open a CSV file in Python 3\n",
    "\n",
    "userhome = os.path.expanduser('~')\n",
    "csvfile= userhome + '\\\\Desktop\\\\test.csv'\n",
    "#with open(csvfile, \"r\") as f:\n",
    "#    reader = csv.reader(f)\n",
    "#    print(next(reader))\n",
    "#    print(\"This is a comment to separate commands\")\n",
    "#    print(next(reader))\n",
    "print(csvfile)"
   ]
  }
 ],
 "metadata": {
  "anaconda-cloud": {},
  "kernelspec": {
   "display_name": "Python [default]",
   "language": "python",
   "name": "python3"
  },
  "language_info": {
   "codemirror_mode": {
    "name": "ipython",
    "version": 3
   },
   "file_extension": ".py",
   "mimetype": "text/x-python",
   "name": "python",
   "nbconvert_exporter": "python",
   "pygments_lexer": "ipython3",
   "version": "3.5.2"
  }
 },
 "nbformat": 4,
 "nbformat_minor": 1
}
