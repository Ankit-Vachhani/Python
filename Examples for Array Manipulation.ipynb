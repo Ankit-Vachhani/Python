{
 "cells": [
  {
   "cell_type": "code",
   "execution_count": 1,
   "metadata": {
    "collapsed": false
   },
   "outputs": [
    {
     "name": "stdout",
     "output_type": "stream",
     "text": [
      "['red', 'blue', 'green', 'magenta']\n"
     ]
    }
   ],
   "source": [
    "#'' and \"\" work the same way\n",
    "a = 'red'\n",
    "b = \"blue\"\n",
    "c = [a,b,'green',\"magenta\"]\n",
    "print(c)"
   ]
  },
  {
   "cell_type": "code",
   "execution_count": 2,
   "metadata": {
    "collapsed": false
   },
   "outputs": [
    {
     "name": "stdout",
     "output_type": "stream",
     "text": [
      "red\n",
      "['blue', 'green']\n"
     ]
    }
   ],
   "source": [
    "print(c[0])\n",
    "print(c[1:3])"
   ]
  },
  {
   "cell_type": "code",
   "execution_count": 3,
   "metadata": {
    "collapsed": false
   },
   "outputs": [
    {
     "name": "stdout",
     "output_type": "stream",
     "text": [
      "['redish', 'bluish', 'greenish']\n"
     ]
    }
   ],
   "source": [
    "d=['redish','bluish']+['greenish']\n",
    "print(d)"
   ]
  },
  {
   "cell_type": "code",
   "execution_count": 4,
   "metadata": {
    "collapsed": false
   },
   "outputs": [
    {
     "name": "stdout",
     "output_type": "stream",
     "text": [
      "['red', 'red', 'red', 'red', 'red']\n",
      "['red', 'red', 'red', 'red', 'red', 'blue']\n"
     ]
    }
   ],
   "source": [
    "e = ['red']*5\n",
    "print(e)\n",
    "e = e + ['blue']\n",
    "print(e)"
   ]
  },
  {
   "cell_type": "code",
   "execution_count": 5,
   "metadata": {
    "collapsed": false
   },
   "outputs": [
    {
     "name": "stdout",
     "output_type": "stream",
     "text": [
      "['red', 'blue', None, 'red', 'blue', None]\n"
     ]
    }
   ],
   "source": [
    "f = ['red','blue',None]*2\n",
    "print(f)"
   ]
  },
  {
   "cell_type": "code",
   "execution_count": 6,
   "metadata": {
    "collapsed": false
   },
   "outputs": [
    {
     "data": {
      "text/plain": [
       "array([['red', 'red'],\n",
       "       ['red', 'blue'],\n",
       "       ['red', None],\n",
       "       ['red', 'red'],\n",
       "       ['red', 'blue'],\n",
       "       ['blue', None]], dtype=object)"
      ]
     },
     "execution_count": 6,
     "metadata": {},
     "output_type": "execute_result"
    }
   ],
   "source": [
    "import numpy as np\n",
    "np.column_stack(([1, 2, 3], [4, 5, 6]))\n",
    "np.column_stack((e,f))"
   ]
  }
 ],
 "metadata": {
  "anaconda-cloud": {},
  "kernelspec": {
   "display_name": "Python [conda root]",
   "language": "python",
   "name": "conda-root-py"
  },
  "language_info": {
   "codemirror_mode": {
    "name": "ipython",
    "version": 3
   },
   "file_extension": ".py",
   "mimetype": "text/x-python",
   "name": "python",
   "nbconvert_exporter": "python",
   "pygments_lexer": "ipython3",
   "version": "3.5.2"
  }
 },
 "nbformat": 4,
 "nbformat_minor": 1
}
