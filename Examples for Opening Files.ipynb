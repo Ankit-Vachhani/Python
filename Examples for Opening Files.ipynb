{
 "cells": [
  {
   "cell_type": "code",
   "execution_count": null,
   "metadata": {
    "collapsed": false
   },
   "outputs": [],
   "source": [
    "#This is how you import libraries\n",
    "import os\n",
    "import csv\n",
    "import sys"
   ]
  },
  {
   "cell_type": "code",
   "execution_count": null,
   "metadata": {
    "collapsed": false
   },
   "outputs": [],
   "source": [
    "#This is how you check your version of Python\n",
    "sys.version"
   ]
  },
  {
   "cell_type": "code",
   "execution_count": null,
   "metadata": {
    "collapsed": false
   },
   "outputs": [],
   "source": [
    "#This command shows the current working directory (what open uses for for relative paths).\n",
    "os.getcwd()"
   ]
  },
  {
   "cell_type": "code",
   "execution_count": null,
   "metadata": {
    "collapsed": false
   },
   "outputs": [],
   "source": [
    "#This is how you change the current working directory (what open uses for for relative paths).\n",
    "os.chdir('C:\\\\')\n",
    "os.getcwd()"
   ]
  },
  {
   "cell_type": "code",
   "execution_count": null,
   "metadata": {
    "collapsed": false
   },
   "outputs": [],
   "source": [
    "#This is how you revert the current working directory (what open uses for for relative paths).\n",
    "os.chdir(os.path.expanduser('~'))\n",
    "os.getcwd()"
   ]
  },
  {
   "cell_type": "code",
   "execution_count": null,
   "metadata": {
    "collapsed": false
   },
   "outputs": [],
   "source": [
    "#this is how to open a CSV file in Python 3\n",
    "\n",
    "userhome = os.path.expanduser('~')\n",
    "csvfile = userhome + '\\\\Desktop\\\\test.csv'\n",
    "with open(csvfile, \"r\") as f:\n",
    "    csvReader = csv.reader(f)  #csv.reader is a built-in Python function\n",
    "    print(next(csvReader))\n",
    "    print(\"This is a comment to separate commands\")\n",
    "    print(next(csvReader))\n"
   ]
  },
  {
   "cell_type": "code",
   "execution_count": null,
   "metadata": {
    "collapsed": false
   },
   "outputs": [],
   "source": [
    "#this is how to open a txt file in Python 3\n",
    "\n",
    "userhome = os.path.expanduser('~')\n",
    "txtfile = userhome + '\\\\Desktop\\\\test.txt'\n",
    "with open(txtfile, \"r\") as f:\n",
    "    wordsFile = f.read().splitlines()\n",
    "len(wordsFile)"
   ]
  }
 ],
 "metadata": {
  "anaconda-cloud": {},
  "kernelspec": {
   "display_name": "Python [default]",
   "language": "python",
   "name": "python3"
  },
  "language_info": {
   "codemirror_mode": {
    "name": "ipython",
    "version": 3
   },
   "file_extension": ".py",
   "mimetype": "text/x-python",
   "name": "python",
   "nbconvert_exporter": "python",
   "pygments_lexer": "ipython3",
   "version": "3.5.2"
  }
 },
 "nbformat": 4,
 "nbformat_minor": 1
}
